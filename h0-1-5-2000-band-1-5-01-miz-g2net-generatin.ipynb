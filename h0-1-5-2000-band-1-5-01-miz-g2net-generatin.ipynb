{
 "cells": [
  {
   "cell_type": "code",
   "execution_count": 1,
   "id": "f134efe8",
   "metadata": {
    "_kg_hide-input": true,
    "_kg_hide-output": true,
    "execution": {
     "iopub.execute_input": "2022-12-15T23:22:31.963545Z",
     "iopub.status.busy": "2022-12-15T23:22:31.962863Z",
     "iopub.status.idle": "2022-12-15T23:23:19.294601Z",
     "shell.execute_reply": "2022-12-15T23:23:19.293251Z"
    },
    "papermill": {
     "duration": 47.341845,
     "end_time": "2022-12-15T23:23:19.297719",
     "exception": false,
     "start_time": "2022-12-15T23:22:31.955874",
     "status": "completed"
    },
    "tags": []
   },
   "outputs": [
    {
     "name": "stdout",
     "output_type": "stream",
     "text": [
      "Collecting git+https://github.com/PyFstat/PyFstat@python37\r\n",
      "  Cloning https://github.com/PyFstat/PyFstat (to revision python37) to /tmp/pip-req-build-1x0ekb1r\r\n",
      "  Running command git clone --filter=blob:none --quiet https://github.com/PyFstat/PyFstat /tmp/pip-req-build-1x0ekb1r\r\n",
      "  Running command git checkout -b python37 --track origin/python37\r\n",
      "  Switched to a new branch 'python37'\r\n",
      "  Branch 'python37' set up to track remote branch 'python37' from 'origin'.\r\n",
      "  Resolved https://github.com/PyFstat/PyFstat to commit 73ad1acdc9385a234727abf3eb9f93c9298fc5e5\r\n",
      "  Preparing metadata (setup.py) ... \u001b[?25l-\b \bdone\r\n",
      "\u001b[?25hRequirement already satisfied: attrs in /opt/conda/lib/python3.7/site-packages (from PyFstat==1.18.1+1.73ad1acd.clean) (21.4.0)\r\n",
      "Collecting corner\r\n",
      "  Downloading corner-2.2.1-py3-none-any.whl (15 kB)\r\n",
      "Requirement already satisfied: dill in /opt/conda/lib/python3.7/site-packages (from PyFstat==1.18.1+1.73ad1acd.clean) (0.3.5.1)\r\n",
      "Requirement already satisfied: matplotlib>=2.1 in /opt/conda/lib/python3.7/site-packages (from PyFstat==1.18.1+1.73ad1acd.clean) (3.5.3)\r\n",
      "Requirement already satisfied: numpy in /opt/conda/lib/python3.7/site-packages (from PyFstat==1.18.1+1.73ad1acd.clean) (1.21.6)\r\n",
      "Requirement already satisfied: pathos in /opt/conda/lib/python3.7/site-packages (from PyFstat==1.18.1+1.73ad1acd.clean) (0.2.9)\r\n",
      "Collecting ptemcee\r\n",
      "  Downloading ptemcee-1.0.0.tar.gz (17 kB)\r\n",
      "  Preparing metadata (setup.py) ... \u001b[?25l-\b \bdone\r\n",
      "\u001b[?25hRequirement already satisfied: scipy in /opt/conda/lib/python3.7/site-packages (from PyFstat==1.18.1+1.73ad1acd.clean) (1.7.3)\r\n",
      "Requirement already satisfied: tqdm in /opt/conda/lib/python3.7/site-packages (from PyFstat==1.18.1+1.73ad1acd.clean) (4.64.0)\r\n",
      "Collecting versioneer\r\n",
      "  Downloading versioneer-0.28-py3-none-any.whl (45 kB)\r\n",
      "\u001b[2K     \u001b[90m━━━━━━━━━━━━━━━━━━━━━━━━━━━━━━━━━━━━━━━\u001b[0m \u001b[32m45.3/45.3 kB\u001b[0m \u001b[31m575.7 kB/s\u001b[0m eta \u001b[36m0:00:00\u001b[0m\r\n",
      "\u001b[?25hCollecting lalsuite\r\n",
      "  Downloading lalsuite-7.5-cp37-cp37m-manylinux_2_17_x86_64.manylinux2014_x86_64.whl (48.3 MB)\r\n",
      "\u001b[2K     \u001b[90m━━━━━━━━━━━━━━━━━━━━━━━━━━━━━━━━━━━━━━━━\u001b[0m \u001b[32m48.3/48.3 MB\u001b[0m \u001b[31m17.8 MB/s\u001b[0m eta \u001b[36m0:00:00\u001b[0m\r\n",
      "\u001b[?25hRequirement already satisfied: kiwisolver>=1.0.1 in /opt/conda/lib/python3.7/site-packages (from matplotlib>=2.1->PyFstat==1.18.1+1.73ad1acd.clean) (1.4.3)\r\n",
      "Requirement already satisfied: cycler>=0.10 in /opt/conda/lib/python3.7/site-packages (from matplotlib>=2.1->PyFstat==1.18.1+1.73ad1acd.clean) (0.11.0)\r\n",
      "Requirement already satisfied: pillow>=6.2.0 in /opt/conda/lib/python3.7/site-packages (from matplotlib>=2.1->PyFstat==1.18.1+1.73ad1acd.clean) (9.1.1)\r\n",
      "Requirement already satisfied: python-dateutil>=2.7 in /opt/conda/lib/python3.7/site-packages (from matplotlib>=2.1->PyFstat==1.18.1+1.73ad1acd.clean) (2.8.2)\r\n",
      "Requirement already satisfied: packaging>=20.0 in /opt/conda/lib/python3.7/site-packages (from matplotlib>=2.1->PyFstat==1.18.1+1.73ad1acd.clean) (21.3)\r\n",
      "Requirement already satisfied: pyparsing>=2.2.1 in /opt/conda/lib/python3.7/site-packages (from matplotlib>=2.1->PyFstat==1.18.1+1.73ad1acd.clean) (3.0.9)\r\n",
      "Requirement already satisfied: fonttools>=4.22.0 in /opt/conda/lib/python3.7/site-packages (from matplotlib>=2.1->PyFstat==1.18.1+1.73ad1acd.clean) (4.33.3)\r\n",
      "Collecting ligo-segments\r\n",
      "  Downloading ligo-segments-1.4.0.tar.gz (51 kB)\r\n",
      "\u001b[2K     \u001b[90m━━━━━━━━━━━━━━━━━━━━━━━━━━━━━━━━━━━━━━━━\u001b[0m \u001b[32m51.0/51.0 kB\u001b[0m \u001b[31m3.7 MB/s\u001b[0m eta \u001b[36m0:00:00\u001b[0m\r\n",
      "\u001b[?25h  Preparing metadata (setup.py) ... \u001b[?25l-\b \b\\\b \bdone\r\n",
      "\u001b[?25hCollecting lscsoft-glue\r\n",
      "  Downloading lscsoft-glue-3.0.1.tar.gz (1.4 MB)\r\n",
      "\u001b[2K     \u001b[90m━━━━━━━━━━━━━━━━━━━━━━━━━━━━━━━━━━━━━━━━\u001b[0m \u001b[32m1.4/1.4 MB\u001b[0m \u001b[31m51.9 MB/s\u001b[0m eta \u001b[36m0:00:00\u001b[0m\r\n",
      "\u001b[?25h  Installing build dependencies ... \u001b[?25l-\b \b\\\b \b|\b \b/\b \b-\b \b\\\b \bdone\r\n",
      "\u001b[?25h  Getting requirements to build wheel ... \u001b[?25l-\b \bdone\r\n",
      "\u001b[?25h  Preparing metadata (pyproject.toml) ... \u001b[?25l-\b \bdone\r\n",
      "\u001b[?25hRequirement already satisfied: ppft>=1.7.6.5 in /opt/conda/lib/python3.7/site-packages (from pathos->PyFstat==1.18.1+1.73ad1acd.clean) (1.7.6.5)\r\n",
      "Requirement already satisfied: pox>=0.3.1 in /opt/conda/lib/python3.7/site-packages (from pathos->PyFstat==1.18.1+1.73ad1acd.clean) (0.3.1)\r\n",
      "Requirement already satisfied: multiprocess>=0.70.13 in /opt/conda/lib/python3.7/site-packages (from pathos->PyFstat==1.18.1+1.73ad1acd.clean) (0.70.13)\r\n",
      "Requirement already satisfied: typing-extensions in /opt/conda/lib/python3.7/site-packages (from kiwisolver>=1.0.1->matplotlib>=2.1->PyFstat==1.18.1+1.73ad1acd.clean) (4.4.0)\r\n",
      "Requirement already satisfied: six>=1.7.3 in /opt/conda/lib/python3.7/site-packages (from ppft>=1.7.6.5->pathos->PyFstat==1.18.1+1.73ad1acd.clean) (1.15.0)\r\n",
      "Requirement already satisfied: pyOpenSSL in /opt/conda/lib/python3.7/site-packages (from lscsoft-glue->lalsuite->PyFstat==1.18.1+1.73ad1acd.clean) (22.0.0)\r\n",
      "Collecting pyRXP\r\n",
      "  Downloading pyRXP-3.0.1-cp37-cp37m-manylinux_2_12_x86_64.manylinux2010_x86_64.whl (295 kB)\r\n",
      "\u001b[2K     \u001b[90m━━━━━━━━━━━━━━━━━━━━━━━━━━━━━━━━━━━━━━\u001b[0m \u001b[32m295.5/295.5 kB\u001b[0m \u001b[31m16.9 MB/s\u001b[0m eta \u001b[36m0:00:00\u001b[0m\r\n",
      "\u001b[?25hRequirement already satisfied: cryptography>=35.0 in /opt/conda/lib/python3.7/site-packages (from pyOpenSSL->lscsoft-glue->lalsuite->PyFstat==1.18.1+1.73ad1acd.clean) (37.0.2)\r\n",
      "Requirement already satisfied: cffi>=1.12 in /opt/conda/lib/python3.7/site-packages (from cryptography>=35.0->pyOpenSSL->lscsoft-glue->lalsuite->PyFstat==1.18.1+1.73ad1acd.clean) (1.15.0)\r\n",
      "Requirement already satisfied: pycparser in /opt/conda/lib/python3.7/site-packages (from cffi>=1.12->cryptography>=35.0->pyOpenSSL->lscsoft-glue->lalsuite->PyFstat==1.18.1+1.73ad1acd.clean) (2.21)\r\n",
      "Building wheels for collected packages: PyFstat, ptemcee, ligo-segments, lscsoft-glue\r\n",
      "  Building wheel for PyFstat (setup.py) ... \u001b[?25l-\b \b\\\b \b|\b \b/\b \bdone\r\n",
      "\u001b[?25h  Created wheel for PyFstat: filename=PyFstat-1.18.1+1.73ad1acd.clean-py3-none-any.whl size=133030 sha256=6c0b9fc0a3e32fd74d8a7d5ae787bf0841039772f4a962602c810a397b1e71c8\r\n",
      "  Stored in directory: /tmp/pip-ephem-wheel-cache-p_8epyl7/wheels/91/40/c5/23e0320585490e9beb7e3dd53cb507ac39146605cc28240596\r\n",
      "  Building wheel for ptemcee (setup.py) ... \u001b[?25l-\b \b\\\b \bdone\r\n",
      "\u001b[?25h  Created wheel for ptemcee: filename=ptemcee-1.0.0-py3-none-any.whl size=18550 sha256=6fd3bbfac35665980813b65dc7b64e4ea99f36e0bfb9b479da431abf4e26d97a\r\n",
      "  Stored in directory: /root/.cache/pip/wheels/5e/5e/c5/9d08b47f943d50924b028f2a9c4b131cc3e025ee7994cea9ae\r\n",
      "  Building wheel for ligo-segments (setup.py) ... \u001b[?25l-\b \b\\\b \b|\b \b/\b \b-\b \b\\\b \bdone\r\n",
      "\u001b[?25h  Created wheel for ligo-segments: filename=ligo_segments-1.4.0-cp37-cp37m-linux_x86_64.whl size=99657 sha256=8ce0c089c98ae3fb7829b0e2976ca7c95ed163e6ee59104fe1aad0a962510950\r\n",
      "  Stored in directory: /root/.cache/pip/wheels/09/f9/d4/129b3bb4458d50b56fdc8245ace7c8216d54865fe8d3aebc05\r\n",
      "  Building wheel for lscsoft-glue (pyproject.toml) ... \u001b[?25l-\b \b\\\b \b|\b \b/\b \b-\b \b\\\b \b|\b \b/\b \b-\b \bdone\r\n",
      "\u001b[?25h  Created wheel for lscsoft-glue: filename=lscsoft_glue-3.0.1-cp37-cp37m-linux_x86_64.whl size=263509 sha256=ef2daebf1459b0d689447f4b416695794b04002ab92a5eb451c48bb275d909d3\r\n",
      "  Stored in directory: /root/.cache/pip/wheels/62/ad/9a/6e89ceed9887a50c3c227beea125ad58f50b3622fbaf0873bf\r\n",
      "Successfully built PyFstat ptemcee ligo-segments lscsoft-glue\r\n",
      "Installing collected packages: versioneer, pyRXP, ptemcee, ligo-segments, corner, lscsoft-glue, lalsuite, PyFstat\r\n",
      "Successfully installed PyFstat-1.18.1+1.73ad1acd.clean corner-2.2.1 lalsuite-7.5 ligo-segments-1.4.0 lscsoft-glue-3.0.1 ptemcee-1.0.0 pyRXP-3.0.1 versioneer-0.28\r\n",
      "\u001b[33mWARNING: Running pip as the 'root' user can result in broken permissions and conflicting behaviour with the system package manager. It is recommended to use a virtual environment instead: https://pip.pypa.io/warnings/venv\u001b[0m\u001b[33m\r\n",
      "\u001b[0m"
     ]
    }
   ],
   "source": [
    "!pip install git+https://github.com/PyFstat/PyFstat@python37"
   ]
  },
  {
   "cell_type": "code",
   "execution_count": 2,
   "id": "58aa823c",
   "metadata": {
    "_cell_guid": "b1076dfc-b9ad-4769-8c92-a6c4dae69d19",
    "_uuid": "8f2839f25d086af736a60e9eeb907d3b93b6e0e5",
    "execution": {
     "iopub.execute_input": "2022-12-15T23:23:19.324495Z",
     "iopub.status.busy": "2022-12-15T23:23:19.322343Z",
     "iopub.status.idle": "2022-12-15T23:23:23.872449Z",
     "shell.execute_reply": "2022-12-15T23:23:23.871280Z"
    },
    "papermill": {
     "duration": 4.565918,
     "end_time": "2022-12-15T23:23:23.875201",
     "exception": false,
     "start_time": "2022-12-15T23:23:19.309283",
     "status": "completed"
    },
    "tags": []
   },
   "outputs": [],
   "source": [
    "import os, sys, shutil, gc\n",
    "import pandas as pd\n",
    "import numpy as np\n",
    "import matplotlib.pyplot as plt\n",
    "import pyfstat\n",
    "from scipy import stats\n",
    "from scipy import signal\n",
    "from scipy.interpolate import interp1d\n",
    "from scipy.signal import butter, filtfilt, iirdesign, zpk2tf, freqz\n",
    "import seaborn as sns\n",
    "import h5py\n",
    "import joblib\n",
    "%matplotlib inline"
   ]
  },
  {
   "cell_type": "code",
   "execution_count": 3,
   "id": "91c94e52",
   "metadata": {
    "execution": {
     "iopub.execute_input": "2022-12-15T23:23:23.897258Z",
     "iopub.status.busy": "2022-12-15T23:23:23.896318Z",
     "iopub.status.idle": "2022-12-15T23:23:23.902467Z",
     "shell.execute_reply": "2022-12-15T23:23:23.900989Z"
    },
    "papermill": {
     "duration": 0.019656,
     "end_time": "2022-12-15T23:23:23.904820",
     "exception": false,
     "start_time": "2022-12-15T23:23:23.885164",
     "status": "completed"
    },
    "tags": []
   },
   "outputs": [],
   "source": [
    "shape_1 = (180,23)\n",
    "shape_2 = (360,1)"
   ]
  },
  {
   "cell_type": "code",
   "execution_count": 4,
   "id": "e215dc6d",
   "metadata": {
    "execution": {
     "iopub.execute_input": "2022-12-15T23:23:23.926628Z",
     "iopub.status.busy": "2022-12-15T23:23:23.926035Z",
     "iopub.status.idle": "2022-12-15T23:23:23.945900Z",
     "shell.execute_reply": "2022-12-15T23:23:23.944749Z"
    },
    "papermill": {
     "duration": 0.033918,
     "end_time": "2022-12-15T23:23:23.948578",
     "exception": false,
     "start_time": "2022-12-15T23:23:23.914660",
     "status": "completed"
    },
    "tags": []
   },
   "outputs": [],
   "source": [
    "class data_gen():\n",
    "    def __init__(self, signal = False):\n",
    "        self.writer_kwargs = {\n",
    "                        \"tstart\": 1238166018,\n",
    "                        \"detectors\": \"H1,L1\",   \n",
    "                        \"SFTWindowType\": \"tukey\", \n",
    "                        \"SFTWindowBeta\": 0.01,\n",
    "                        \"Tsft\": 1800,\n",
    "                        \"duration\": 1800*4583.0,\n",
    "                       }\n",
    "        \n",
    "        # TODO: ここ調整！！！\n",
    "        # 1/5.01 -> 0.1996007984031936\n",
    "        self.priors={\n",
    "              'Band': 1/5.01,\n",
    "          }\n",
    "#         self.priors={\n",
    "#             'Band': 0.36,\n",
    "#         }\n",
    "#         self.priors={\n",
    "#             'Band': 0.3,\n",
    "#         }\n",
    "#         self.priors={\n",
    "#             'Band': 0.36,\n",
    "#         }\n",
    "\n",
    "        self.random_params = {\n",
    "            \"F0\": lambda: stats.uniform(50,500).rvs(),\n",
    "            \"F1\": lambda: 10**stats.uniform(-12, 4).rvs(),\n",
    "            \"cosi\": lambda: stats.uniform(-1.0,1.0).rvs(),\n",
    "            'psi': lambda: stats.uniform(-0.25 * np.pi, 0.25 * np.pi).rvs(),\n",
    "            'phi': lambda: stats.uniform(0,2*np.pi).rvs(),\n",
    "            'Alpha': lambda: stats.uniform(0,3.14159).rvs(),\n",
    "            'Delta': lambda: stats.uniform(0,3.14159).rvs(),\n",
    "        }\n",
    "        if signal:\n",
    "            # TODO: ここ調整！！！\n",
    "            #self.random_params[\"h0\"] = lambda: 0.5e-23 / stats.uniform(1, 10).rvs()\n",
    "            # self.random_params[\"h0\"] = lambda: 1e-23 / stats.uniform(1, 6).rvs()\n",
    "            # self.random_params[\"h0\"] = lambda: 1e-23 / stats.uniform(2, 10).rvs()\n",
    "            \n",
    "            # self.random_params[\"h0\"] = lambda: 1e-23 / stats.uniform(1, 7).rvs()\n",
    "            # self.random_params[\"h0\"] = lambda: 1e-23 / stats.uniform(1, 8).rvs()\n",
    "            self.random_params[\"h0\"] = lambda: 1e-23 / stats.uniform(1, 5).rvs()\n",
    "        else:\n",
    "            self.writer_kwargs[\"sqrtSX\"]= 0.5e-23\n",
    "    def __len__(self):\n",
    "        return 100\n",
    "    def __getitem__(self, idx):\n",
    "        try: \n",
    "            target_params = {name:self.random_params[name]() for name in self.random_params.keys()}\n",
    "            priors = self.priors\n",
    "            priors.update(target_params)\n",
    "            signal_parameters_generator = pyfstat.AllSkyInjectionParametersGenerator(\n",
    "                priors=priors\n",
    "            )\n",
    "            params = signal_parameters_generator.draw()\n",
    "            self.writer_kwargs[\"outdir\"] = f\"PyFstat_example_data_ensemble/Signal\"\n",
    "            self.writer_kwargs[\"label\"] = f\"Signal\"\n",
    "\n",
    "            writer = pyfstat.Writer( **self.writer_kwargs, **params)\n",
    "            data = []\n",
    "            writer.make_data()\n",
    "            frequency, timestamps, amplitudes = pyfstat.utils.get_sft_as_arrays(\n",
    "                writer.sftfilepath\n",
    "            )\n",
    "\n",
    "        except Exception as e:\n",
    "#             print(e)\n",
    "            return self[idx]\n",
    "        frequency=frequency[:360]\n",
    "        for key in timestamps.keys():\n",
    "            amplitudes[key] = amplitudes[key][:360,:shape_1[0]*shape_1[1]].astype(np.complex128)\n",
    "            amplitudes[key] = amplitudes[key] * 1e22\n",
    "            amplitudes[key] = amplitudes[key].real**2 + amplitudes[key].imag**2\n",
    "                                                                                  \n",
    "            amplitudes[key] = np.mean(amplitudes[key].reshape(360, shape_1[0],shape_1[1]), axis=2)\n",
    "            amplitudes[key] = np.mean(amplitudes[key].reshape(shape_2[0],shape_2[1],shape_1[0]), axis=1).astype(np.float16)\n",
    "            timestamps[key] = np.mean(timestamps[key][:shape_1[0]*shape_1[1]].reshape(shape_1), axis=1)\n",
    "            gc.collect()\n",
    "        frequency = np.mean(frequency.reshape(shape_2),axis=1)\n",
    "        return frequency, timestamps, amplitudes"
   ]
  },
  {
   "cell_type": "markdown",
   "id": "c2baaea7",
   "metadata": {
    "papermill": {
     "duration": 0.00958,
     "end_time": "2022-12-15T23:23:23.968083",
     "exception": false,
     "start_time": "2022-12-15T23:23:23.958503",
     "status": "completed"
    },
    "tags": []
   },
   "source": [
    "Generate Raw Signals"
   ]
  },
  {
   "cell_type": "code",
   "execution_count": 5,
   "id": "98574dca",
   "metadata": {
    "execution": {
     "iopub.execute_input": "2022-12-15T23:23:23.991178Z",
     "iopub.status.busy": "2022-12-15T23:23:23.990702Z",
     "iopub.status.idle": "2022-12-16T01:30:02.525224Z",
     "shell.execute_reply": "2022-12-16T01:30:02.523867Z"
    },
    "papermill": {
     "duration": 7598.549744,
     "end_time": "2022-12-16T01:30:02.528171",
     "exception": false,
     "start_time": "2022-12-15T23:23:23.978427",
     "status": "completed"
    },
    "tags": []
   },
   "outputs": [],
   "source": [
    "gen = data_gen(signal=1)\n",
    "amps = []\n",
    "out_dir = '1_data'\n",
    "try:\n",
    "    os.mkdir(out_dir)\n",
    "except:\n",
    "    pass\n",
    "\n",
    "positive_data_len = 2000\n",
    "# positive_data_len = 3\n",
    "\n",
    "# for i in range(1000):\n",
    "# 0~999\n",
    "for i in range(positive_data_len):\n",
    "    frequency, timestamps, amp= gen[i]\n",
    "    gc.collect()\n",
    "    np.save(f'./{out_dir}/signals_{i}', arr=np.stack([amp[key] for key in amp.keys()]))\n",
    "    \n",
    "    \n",
    "#     np.save(f'./{out_dir}/signals_{i%1000}', arr=np.stack([amp[key] for key in amp.keys()]))\n",
    "#     if i%100 == 99:\n",
    "#         shutil.rmtree(f'./PyFstat_example_data_ensemble')\n",
    "#     if i%1000 == 999:\n",
    "#         shutil.make_archive(f'./{out_dir}_{i+1}', 'zip', f'./{out_dir}/')\n",
    "#         shutil.rmtree(f'./{out_dir}')\n",
    "#         os.mkdir(f'./{out_dir}')"
   ]
  },
  {
   "cell_type": "markdown",
   "id": "6e0c4af0",
   "metadata": {
    "papermill": {
     "duration": 0.009247,
     "end_time": "2022-12-16T01:30:02.547209",
     "exception": false,
     "start_time": "2022-12-16T01:30:02.537962",
     "status": "completed"
    },
    "tags": []
   },
   "source": [
    "Generate Noise"
   ]
  },
  {
   "cell_type": "code",
   "execution_count": 6,
   "id": "56477829",
   "metadata": {
    "execution": {
     "iopub.execute_input": "2022-12-16T01:30:02.569040Z",
     "iopub.status.busy": "2022-12-16T01:30:02.567593Z",
     "iopub.status.idle": "2022-12-16T03:26:07.933627Z",
     "shell.execute_reply": "2022-12-16T03:26:07.932133Z"
    },
    "papermill": {
     "duration": 6965.380284,
     "end_time": "2022-12-16T03:26:07.936927",
     "exception": false,
     "start_time": "2022-12-16T01:30:02.556643",
     "status": "completed"
    },
    "tags": []
   },
   "outputs": [],
   "source": [
    "gen = data_gen(signal=0)\n",
    "amps = []\n",
    "out_dir = '0_data'\n",
    "try:\n",
    "    os.mkdir(out_dir)\n",
    "except:\n",
    "    pass\n",
    "\n",
    "negative_data_len = 2000\n",
    "# negative_data_len = 3\n",
    "\n",
    "# for i in range(1000):\n",
    "for i in range(negative_data_len):\n",
    "    frequency, timestamps, amp = gen[i]\n",
    "    gc.collect()\n",
    "    # positive_data_len + i -> 1000から1999まで\n",
    "    np.save(f'./{out_dir}/signals_{positive_data_len + i}', arr=np.stack([amp[key] for key in amp.keys()]))\n",
    "\n",
    "#     np.save(f'./{out_dir}/signals_{i%1000}', arr=np.stack([amp[key] for key in amp.keys()]))\n",
    "#     if i%100 == 99:\n",
    "#         shutil.rmtree(f'./PyFstat_example_data_ensemble')\n",
    "#     if i%1000 == 999:\n",
    "#         shutil.make_archive(f'./{out_dir}_{i+1}', 'zip', f'./{out_dir}/')\n",
    "#         shutil.rmtree(f'./{out_dir}')\n",
    "#         os.mkdir(f'./{out_dir}')"
   ]
  },
  {
   "cell_type": "code",
   "execution_count": 7,
   "id": "d8bd0d93",
   "metadata": {
    "execution": {
     "iopub.execute_input": "2022-12-16T03:26:07.960085Z",
     "iopub.status.busy": "2022-12-16T03:26:07.959627Z",
     "iopub.status.idle": "2022-12-16T03:26:07.965930Z",
     "shell.execute_reply": "2022-12-16T03:26:07.964479Z"
    },
    "papermill": {
     "duration": 0.02123,
     "end_time": "2022-12-16T03:26:07.968464",
     "exception": false,
     "start_time": "2022-12-16T03:26:07.947234",
     "status": "completed"
    },
    "tags": []
   },
   "outputs": [
    {
     "name": "stdout",
     "output_type": "stream",
     "text": [
      "完了しました！\n"
     ]
    }
   ],
   "source": [
    "print(\"完了しました！\")"
   ]
  },
  {
   "cell_type": "code",
   "execution_count": null,
   "id": "561bbe89",
   "metadata": {
    "papermill": {
     "duration": 0.009647,
     "end_time": "2022-12-16T03:26:08.019166",
     "exception": false,
     "start_time": "2022-12-16T03:26:08.009519",
     "status": "completed"
    },
    "tags": []
   },
   "outputs": [],
   "source": []
  }
 ],
 "metadata": {
  "kernelspec": {
   "display_name": "Python 3",
   "language": "python",
   "name": "python3"
  },
  "language_info": {
   "codemirror_mode": {
    "name": "ipython",
    "version": 3
   },
   "file_extension": ".py",
   "mimetype": "text/x-python",
   "name": "python",
   "nbconvert_exporter": "python",
   "pygments_lexer": "ipython3",
   "version": "3.7.12"
  },
  "papermill": {
   "default_parameters": {},
   "duration": 14626.82528,
   "end_time": "2022-12-16T03:26:09.181689",
   "environment_variables": {},
   "exception": null,
   "input_path": "__notebook__.ipynb",
   "output_path": "__notebook__.ipynb",
   "parameters": {},
   "start_time": "2022-12-15T23:22:22.356409",
   "version": "2.3.4"
  }
 },
 "nbformat": 4,
 "nbformat_minor": 5
}
